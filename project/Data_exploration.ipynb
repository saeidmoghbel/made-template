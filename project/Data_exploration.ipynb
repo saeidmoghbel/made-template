{
 "cells": [
  {
   "cell_type": "code",
   "execution_count": 14,
   "metadata": {},
   "outputs": [
    {
     "name": "stdout",
     "output_type": "stream",
     "text": [
      "801.10s - pydevd: Sending message related to process being replaced timed-out after 5 seconds\n",
      "Requirement already satisfied: seaborn in /Users/saeidmoghbel/made-template-2/.venv/lib/python3.11/site-packages (0.13.1)\n",
      "Requirement already satisfied: numpy!=1.24.0,>=1.20 in /Users/saeidmoghbel/made-template-2/.venv/lib/python3.11/site-packages (from seaborn) (1.24.2)\n",
      "Requirement already satisfied: pandas>=1.2 in /Users/saeidmoghbel/made-template-2/.venv/lib/python3.11/site-packages (from seaborn) (2.1.3)\n",
      "Requirement already satisfied: matplotlib!=3.6.1,>=3.4 in /Users/saeidmoghbel/made-template-2/.venv/lib/python3.11/site-packages (from seaborn) (3.8.2)\n",
      "Requirement already satisfied: contourpy>=1.0.1 in /Users/saeidmoghbel/made-template-2/.venv/lib/python3.11/site-packages (from matplotlib!=3.6.1,>=3.4->seaborn) (1.2.0)\n",
      "Requirement already satisfied: cycler>=0.10 in /Users/saeidmoghbel/made-template-2/.venv/lib/python3.11/site-packages (from matplotlib!=3.6.1,>=3.4->seaborn) (0.12.1)\n",
      "Requirement already satisfied: fonttools>=4.22.0 in /Users/saeidmoghbel/made-template-2/.venv/lib/python3.11/site-packages (from matplotlib!=3.6.1,>=3.4->seaborn) (4.47.0)\n",
      "Requirement already satisfied: kiwisolver>=1.3.1 in /Users/saeidmoghbel/made-template-2/.venv/lib/python3.11/site-packages (from matplotlib!=3.6.1,>=3.4->seaborn) (1.4.5)\n",
      "Requirement already satisfied: packaging>=20.0 in /Users/saeidmoghbel/made-template-2/.venv/lib/python3.11/site-packages (from matplotlib!=3.6.1,>=3.4->seaborn) (23.2)\n",
      "Requirement already satisfied: pillow>=8 in /Users/saeidmoghbel/made-template-2/.venv/lib/python3.11/site-packages (from matplotlib!=3.6.1,>=3.4->seaborn) (10.2.0)\n",
      "Requirement already satisfied: pyparsing>=2.3.1 in /Users/saeidmoghbel/made-template-2/.venv/lib/python3.11/site-packages (from matplotlib!=3.6.1,>=3.4->seaborn) (3.1.1)\n",
      "Requirement already satisfied: python-dateutil>=2.7 in /Users/saeidmoghbel/made-template-2/.venv/lib/python3.11/site-packages (from matplotlib!=3.6.1,>=3.4->seaborn) (2.8.2)\n",
      "Requirement already satisfied: pytz>=2020.1 in /Users/saeidmoghbel/made-template-2/.venv/lib/python3.11/site-packages (from pandas>=1.2->seaborn) (2023.3.post1)\n",
      "Requirement already satisfied: tzdata>=2022.1 in /Users/saeidmoghbel/made-template-2/.venv/lib/python3.11/site-packages (from pandas>=1.2->seaborn) (2023.3)\n",
      "Requirement already satisfied: six>=1.5 in /Users/saeidmoghbel/made-template-2/.venv/lib/python3.11/site-packages (from python-dateutil>=2.7->matplotlib!=3.6.1,>=3.4->seaborn) (1.16.0)\n",
      "Note: you may need to restart the kernel to use updated packages.\n",
      "807.39s - pydevd: Sending message related to process being replaced timed-out after 5 seconds\n",
      "Requirement already satisfied: matplotlib in /Users/saeidmoghbel/made-template-2/.venv/lib/python3.11/site-packages (3.8.2)\n",
      "Requirement already satisfied: contourpy>=1.0.1 in /Users/saeidmoghbel/made-template-2/.venv/lib/python3.11/site-packages (from matplotlib) (1.2.0)\n",
      "Requirement already satisfied: cycler>=0.10 in /Users/saeidmoghbel/made-template-2/.venv/lib/python3.11/site-packages (from matplotlib) (0.12.1)\n",
      "Requirement already satisfied: fonttools>=4.22.0 in /Users/saeidmoghbel/made-template-2/.venv/lib/python3.11/site-packages (from matplotlib) (4.47.0)\n",
      "Requirement already satisfied: kiwisolver>=1.3.1 in /Users/saeidmoghbel/made-template-2/.venv/lib/python3.11/site-packages (from matplotlib) (1.4.5)\n",
      "Requirement already satisfied: numpy<2,>=1.21 in /Users/saeidmoghbel/made-template-2/.venv/lib/python3.11/site-packages (from matplotlib) (1.24.2)\n",
      "Requirement already satisfied: packaging>=20.0 in /Users/saeidmoghbel/made-template-2/.venv/lib/python3.11/site-packages (from matplotlib) (23.2)\n",
      "Requirement already satisfied: pillow>=8 in /Users/saeidmoghbel/made-template-2/.venv/lib/python3.11/site-packages (from matplotlib) (10.2.0)\n",
      "Requirement already satisfied: pyparsing>=2.3.1 in /Users/saeidmoghbel/made-template-2/.venv/lib/python3.11/site-packages (from matplotlib) (3.1.1)\n",
      "Requirement already satisfied: python-dateutil>=2.7 in /Users/saeidmoghbel/made-template-2/.venv/lib/python3.11/site-packages (from matplotlib) (2.8.2)\n",
      "Requirement already satisfied: six>=1.5 in /Users/saeidmoghbel/made-template-2/.venv/lib/python3.11/site-packages (from python-dateutil>=2.7->matplotlib) (1.16.0)\n",
      "Note: you may need to restart the kernel to use updated packages.\n"
     ]
    }
   ],
   "source": [
    "%pip install seaborn\n",
    "%pip install matplotlib"
   ]
  },
  {
   "cell_type": "code",
   "execution_count": 1,
   "metadata": {
    "id": "kT8zNILhqqc0"
   },
   "outputs": [],
   "source": [
    "import pandas as pd\n",
    "import sqlalchemy\n",
    "import requests\n",
    "import io\n",
    "import sqlite3\n",
    "import seaborn as sns\n",
    "import matplotlib.pyplot as plt\n",
    "import numpy as np\n"
   ]
  },
  {
   "cell_type": "code",
   "execution_count": 2,
   "metadata": {
    "id": "IpRYZwp4qzci"
   },
   "outputs": [],
   "source": [
    "url_2009 = \"https://datamillnorth.org/download/road-traffic-accidents/288d2de3-0227-4ff0-b537-2546b712cf00/2009.csv\"\n",
    "url_2015 = \"https://datamillnorth.org/download/road-traffic-accidents/df98a6dd-704e-46a9-9d6d-39d608987cdf/2015.csv\"\n",
    "url_2016 = \"https://datamillnorth.org/download/road-traffic-accidents/b2c7ebba-312a-4b3d-a324-6a5eda85fa5b/Copy%2520of%2520Leeds_RTC_2016.csv\"\n"
   ]
  },
  {
   "cell_type": "code",
   "execution_count": 3,
   "metadata": {
    "id": "dlHnqLjDq3fy"
   },
   "outputs": [],
   "source": [
    "def fetch_and_read (url):\n",
    "    try:\n",
    "        response = requests.get(url)\n",
    "        return pd.read_csv(io.StringIO(response.text), sep =\";\" , on_bad_lines='skip')\n",
    "    except requests.RequestException as e:\n",
    "        print(f\"the fetching data from {url}: {e}\")\n",
    "        return pd.DataFrame()\n",
    "    except pd.errors.ParserError as e:\n",
    "        print(f\"error parsing csv from {url}: {e}\")\n",
    "        return pd.DataFrame()"
   ]
  },
  {
   "cell_type": "code",
   "execution_count": 4,
   "metadata": {
    "id": "1FDAQrVMq6_y"
   },
   "outputs": [],
   "source": [
    "def clean_datasets(cleaned_df):\n",
    "    df_1 = fetch_and_read(url_2009)\n",
    "    df_2 = fetch_and_read(url_2015)\n",
    "    df_3 = fetch_and_read(url_2016)\n",
    "    combined_df = pd.concat([df_1, df_2, df_3], ignore_index = True)\n",
    "    selected_columns = combined_df.loc[:, [\"Casualty Severity\", \"Type of Vehicle\"]]\n",
    "    cleaned_df = clean_data(selected_columns)\n",
    "    analyze_data(cleaned_df)\n",
    "    return cleaned_df\n"
   ]
  },
  {
   "cell_type": "code",
   "execution_count": 5,
   "metadata": {
    "id": "RTxPR5ByrFjp"
   },
   "outputs": [],
   "source": [
    "def clean_data(df):\n",
    "    df.dropna(subset=[\"Type of Vehicle\", \"Casualty Severity\"], inplace=True)\n",
    "    df[\"Type of Vehicle\"] = df[\"Type of Vehicle\"].str.lower()\n",
    "    df[\"Casualty Severity\"] = df[\"Casualty Severity\"].str.lower()\n",
    "    df[\"Type of Vehicle\"] = df[\"Type of Vehicle\"].replace({\"Taxi/Private hire car\": \"Car\", \"M/cycle 50cc and under\": \"Pedal cycle\", \"Other Vehicle\": \"Car\",\n",
    "                                                           \"Motorcycle over 125cc and up to 500cc\": \"Pedal cycle\", \"Goods vehicle 3.5 tonnes mgw and under\": \"Bus or coach (17 or more passenger seats)\"})\n",
    "    severity_order = [\"Slight\", \"Serious\", \"Fatal\"]\n",
    "    df[\"Casualty Severity\"] = pd.Categorical(df[\"Casualty Severity\"], categories=severity_order, ordered=True)\n",
    "    return df\n"
   ]
  },
  {
   "cell_type": "code",
   "execution_count": 10,
   "metadata": {
    "id": "c1wegotwrMtR"
   },
   "outputs": [],
   "source": [
    "\n",
    "def analyze_data(df):\n",
    "    selected_df = df.loc[:, [\"Casualty Severity\", \"Type of Vehicle\"]]\n",
    "    df[\"Casualty Severity\"] = df[\"Casualty Severity\"].astype(\"category\")\n",
    "    df[\"Type of Vehicle\"] = df[\"Type of Vehicle\"].astype(\"category\")\n",
    "\n",
    "    sns.countplot(x=\"Type of Vehicle\", hue=\"Casualty Severity\", data=selected_df)\n",
    "    plt.title(\"Count of Casualty Severity for each Type of Vehicle\")\n",
    "    p=plt.show()\n",
    "    return p\n"
   ]
  },
  {
   "cell_type": "code",
   "execution_count": 7,
   "metadata": {
    "id": "a3ooNDqlrPgc"
   },
   "outputs": [],
   "source": [
    "df_1 = fetch_and_read(url_2009)\n",
    "df_2 = fetch_and_read(url_2015)\n",
    "df_3 = fetch_and_read(url_2016)\n"
   ]
  },
  {
   "cell_type": "code",
   "execution_count": 8,
   "metadata": {
    "id": "WqwmeMoErSoY"
   },
   "outputs": [],
   "source": [
    "def load_data(df, db_path, accidents, cleaned_df):\n",
    "    db_path = './data/accidents.sqlite'\n",
    "    conn = sqlite3.connect(db_path)\n",
    "    df.to_sql(accidents, conn, index=False, if_exist='replace')\n",
    "    load_data(cleaned_df, './data/accidents.sqlite', 'combined_accidents')\n",
    "    conn.commit()\n",
    "    conn.close()"
   ]
  },
  {
   "cell_type": "code",
   "execution_count": null,
   "metadata": {},
   "outputs": [],
   "source": []
  },
  {
   "cell_type": "code",
   "execution_count": null,
   "metadata": {},
   "outputs": [],
   "source": []
  },
  {
   "cell_type": "code",
   "execution_count": null,
   "metadata": {},
   "outputs": [],
   "source": []
  },
  {
   "cell_type": "code",
   "execution_count": null,
   "metadata": {},
   "outputs": [],
   "source": []
  },
  {
   "cell_type": "code",
   "execution_count": null,
   "metadata": {},
   "outputs": [],
   "source": []
  },
  {
   "cell_type": "code",
   "execution_count": null,
   "metadata": {},
   "outputs": [],
   "source": []
  }
 ],
 "metadata": {
  "colab": {
   "provenance": []
  },
  "kernelspec": {
   "display_name": "Python 3 (ipykernel)",
   "language": "python",
   "name": "python3"
  },
  "language_info": {
   "codemirror_mode": {
    "name": "ipython",
    "version": 3
   },
   "file_extension": ".py",
   "mimetype": "text/x-python",
   "name": "python",
   "nbconvert_exporter": "python",
   "pygments_lexer": "ipython3",
   "version": "3.11.6"
  }
 },
 "nbformat": 4,
 "nbformat_minor": 4
}
