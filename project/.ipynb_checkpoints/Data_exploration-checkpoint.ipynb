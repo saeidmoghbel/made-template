{
 "cells": [
  {
   "cell_type": "code",
   "execution_count": null,
   "metadata": {
    "id": "kT8zNILhqqc0"
   },
   "outputs": [],
   "source": [
    "import pandas as pd\n",
    "import sqlalchemy\n",
    "import requests\n",
    "import io\n",
    "import sqlite3\n",
    "import seaborn as sns\n",
    "import matplotlib.pyplot as plt\n",
    "import numpy as np\n"
   ]
  },
  {
   "cell_type": "code",
   "execution_count": null,
   "metadata": {
    "id": "IpRYZwp4qzci"
   },
   "outputs": [],
   "source": [
    "url_2009 = \"https://datamillnorth.org/download/road-traffic-accidents/288d2de3-0227-4ff0-b537-2546b712cf00/2009.csv\"\n",
    "url_2015 = \"https://datamillnorth.org/download/road-traffic-accidents/df98a6dd-704e-46a9-9d6d-39d608987cdf/2015.csv\"\n",
    "url_2016 = \"https://datamillnorth.org/download/road-traffic-accidents/b2c7ebba-312a-4b3d-a324-6a5eda85fa5b/Copy%2520of%2520Leeds_RTC_2016.csv\"\n"
   ]
  },
  {
   "cell_type": "code",
   "execution_count": null,
   "metadata": {
    "id": "dlHnqLjDq3fy"
   },
   "outputs": [],
   "source": [
    "def fetch_and_read (url):\n",
    "    try:\n",
    "        response = requests.get(url)\n",
    "        return pd.read_csv(io.StringIO(response.text), sep =\";\" , on_bad_lines='skip')\n",
    "    except requests.RequestException as e:\n",
    "        print(f\"the fetching data from {url}: {e}\")\n",
    "        return pd.DataFrame()\n",
    "    except pd.errors.ParserError as e:\n",
    "        print(f\"error parsing csv from {url}: {e}\")\n",
    "        return pd.DataFrame()"
   ]
  },
  {
   "cell_type": "code",
   "execution_count": null,
   "metadata": {
    "id": "1FDAQrVMq6_y"
   },
   "outputs": [],
   "source": [
    "def clean_datasets(cleaned_df):\n",
    "    df_1 = fetch_and_read(url_2009)\n",
    "    df_2 = fetch_and_read(url_2015)\n",
    "    df_3 = fetch_and_read(url_2016)\n",
    "    combined_df = pd.concat([df_1, df_2, df_3], ignore_index = True)\n",
    "    selected_columns = combined_df.loc[:, [\"Casualty Severity\", \"Type of Vehicle\"]]\n",
    "    cleaned_df = clean_data(selected_columns)\n",
    "    analyze_data(cleaned_df)\n",
    "    return cleaned_df\n"
   ]
  },
  {
   "cell_type": "code",
   "execution_count": null,
   "metadata": {
    "id": "RTxPR5ByrFjp"
   },
   "outputs": [],
   "source": [
    "def clean_data(df):\n",
    "    df.dropna(subset=[\"Type of Vehicle\", \"Casualty Severity\"], inplace=True)\n",
    "    df[\"Type of Vehicle\"] = df[\"Type of Vehicle\"].str.lower()\n",
    "    df[\"Casualty Severity\"] = df[\"Casualty Severity\"].str.lower()\n",
    "    df[\"Type of Vehicle\"] = df[\"Type of Vehicle\"].replace({\"Taxi/Private hire car\": \"Car\", \"M/cycle 50cc and under\": \"Pedal cycle\", \"Other Vehicle\": \"Car\",\n",
    "                                                           \"Motorcycle over 125cc and up to 500cc\": \"Pedal cycle\", \"Goods vehicle 3.5 tonnes mgw and under\": \"Bus or coach (17 or more passenger seats)\"})\n",
    "    severity_order = [\"Slight\", \"Serious\", \"Fatal\"]\n",
    "    df[\"Casualty Severity\"] = pd.Categorical(df[\"Casualty Severity\"], categories=severity_order, ordered=True)\n",
    "    return df\n"
   ]
  },
  {
   "cell_type": "code",
   "execution_count": null,
   "metadata": {
    "id": "c1wegotwrMtR"
   },
   "outputs": [],
   "source": [
    "\n",
    "def analyze_data(df):\n",
    "    selected_df = df.loc[:, [\"Casualty Severity\", \"Type of Vehicle\"]]\n",
    "    df[\"Casualty Severity\"] = df[\"Casualty Severity\"].astype(\"category\")\n",
    "    df[\"Type of Vehicle\"] = df[\"Type of Vehicle\"].astype(\"category\")\n",
    "\n",
    "    sns.countplot(x=\"Type of Vehicle\", hue=\"Casualty Severity\", data=selected_df)\n",
    "    plt.title(\"Count of Casualty Severity for each Type of Vehicle\")\n",
    "    p=plt.show()\n",
    "    return p\n"
   ]
  },
  {
   "cell_type": "code",
   "execution_count": null,
   "metadata": {
    "id": "a3ooNDqlrPgc"
   },
   "outputs": [],
   "source": [
    "df_1 = fetch_and_read(url_2009)\n",
    "df_2 = fetch_and_read(url_2015)\n",
    "df_3 = fetch_and_read(url_2016)\n"
   ]
  },
  {
   "cell_type": "code",
   "execution_count": null,
   "metadata": {
    "id": "WqwmeMoErSoY"
   },
   "outputs": [],
   "source": [
    "def load_data(df, db_path, accidents, cleaned_df):\n",
    "    db_path = './data/accidents.sqlite'\n",
    "    conn = sqlite3.connect(db_path)\n",
    "    df.to_sql(accidents, conn, index=False, if_exist='replace')\n",
    "    load_data(cleaned_df, './data/accidents.sqlite', 'combined_accidents')\n",
    "    conn.commit()\n",
    "    conn.close()"
   ]
  }
 ],
 "metadata": {
  "colab": {
   "provenance": []
  },
  "kernelspec": {
   "display_name": "Python 3 (ipykernel)",
   "language": "python",
   "name": "python3"
  },
  "language_info": {
   "codemirror_mode": {
    "name": "ipython",
    "version": 3
   },
   "file_extension": ".py",
   "mimetype": "text/x-python",
   "name": "python",
   "nbconvert_exporter": "python",
   "pygments_lexer": "ipython3",
   "version": "3.11.6"
  }
 },
 "nbformat": 4,
 "nbformat_minor": 4
}
